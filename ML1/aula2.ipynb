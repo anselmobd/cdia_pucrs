{
  "nbformat": 4,
  "nbformat_minor": 0,
  "metadata": {
    "colab": {
      "name": "ML1aula2.ipynb",
      "provenance": [],
      "authorship_tag": "ABX9TyPObakNUvzQ1X9jaSgcoGLT",
      "include_colab_link": true
    },
    "kernelspec": {
      "name": "python3",
      "display_name": "Python 3"
    },
    "language_info": {
      "name": "python"
    }
  },
  "cells": [
    {
      "cell_type": "markdown",
      "metadata": {
        "id": "view-in-github",
        "colab_type": "text"
      },
      "source": [
        "<a href=\"https://colab.research.google.com/github/anselmobd/cdia_pucrs/blob/main/ML1/aula2.ipynb\" target=\"_parent\"><img src=\"https://colab.research.google.com/assets/colab-badge.svg\" alt=\"Open In Colab\"/></a>"
      ]
    },
    {
      "cell_type": "code",
      "metadata": {
        "id": "hXOOCUfiwe1V"
      },
      "source": [
        "import numpy as np\n",
        "from sklearn import neighbors"
      ],
      "execution_count": 3,
      "outputs": []
    },
    {
      "cell_type": "markdown",
      "metadata": {
        "id": "bEhgKN6WqbAZ"
      },
      "source": [
        "## Exemplo de execução com k = 1"
      ]
    },
    {
      "cell_type": "code",
      "metadata": {
        "id": "14kNisMUws-Y"
      },
      "source": [
        "categoria = {0: 'M', 1: 'B'}\n",
        "dados = np.array([\n",
        "    [14, 23, 0],\n",
        "    [15, 28, 0],\n",
        "    [15, 20, 0],\n",
        "    [16, 21, 0],\n",
        "    [20, 22, 0],\n",
        "    [15, 14, 0],\n",
        "    [ 9, 21, 1],\n",
        "    [ 9, 14, 1],\n",
        "    [11, 19, 1],\n",
        "    [ 9, 17, 1],\n",
        "    [13, 16, 1],\n",
        "])\n"
      ],
      "execution_count": 13,
      "outputs": []
    },
    {
      "cell_type": "code",
      "metadata": {
        "id": "q8kI-TCrmErB"
      },
      "source": [
        "X = dados[:,:2]\n",
        "y = dados[:,2]"
      ],
      "execution_count": 14,
      "outputs": []
    },
    {
      "cell_type": "code",
      "metadata": {
        "id": "PjvvWowPmThs"
      },
      "source": [
        "clf = neighbors.KNeighborsClassifier(1, weights='uniform')"
      ],
      "execution_count": 15,
      "outputs": []
    },
    {
      "cell_type": "code",
      "metadata": {
        "colab": {
          "base_uri": "https://localhost:8080/"
        },
        "id": "Ec3hmCoC8DMB",
        "outputId": "637f76e8-9bb4-4b3a-f0ad-235de19a8d39"
      },
      "source": [
        "clf.fit(X, y)"
      ],
      "execution_count": 16,
      "outputs": [
        {
          "output_type": "execute_result",
          "data": {
            "text/plain": [
              "KNeighborsClassifier(n_neighbors=1)"
            ]
          },
          "metadata": {},
          "execution_count": 16
        }
      ]
    },
    {
      "cell_type": "code",
      "metadata": {
        "id": "_JK9nEZimr3P"
      },
      "source": [
        "Xt = [\n",
        "    [13, 18]\n",
        "]"
      ],
      "execution_count": 18,
      "outputs": []
    },
    {
      "cell_type": "code",
      "metadata": {
        "id": "tB83hU5SoQcV"
      },
      "source": [
        "yt = clf.predict(\n",
        "  [[13, 18]]\n",
        ")"
      ],
      "execution_count": 19,
      "outputs": []
    },
    {
      "cell_type": "code",
      "metadata": {
        "colab": {
          "base_uri": "https://localhost:8080/"
        },
        "id": "_0-CWwPCoSLd",
        "outputId": "5c88064b-c383-416b-cb6d-9b5a732b897b"
      },
      "source": [
        "[f\"{dado[0]} -> {categoria[dado[1]]}\" for dado in zip(Xt, yt)]"
      ],
      "execution_count": 25,
      "outputs": [
        {
          "output_type": "execute_result",
          "data": {
            "text/plain": [
              "['[13, 18] -> B']"
            ]
          },
          "metadata": {},
          "execution_count": 25
        }
      ]
    }
  ]
}