{
  "nbformat": 4,
  "nbformat_minor": 0,
  "metadata": {
    "colab": {
      "name": "ML1aula2.ipynb",
      "provenance": [],
      "authorship_tag": "ABX9TyMgmmy4xrk2E7qTkw96cR5q",
      "include_colab_link": true
    },
    "kernelspec": {
      "name": "python3",
      "display_name": "Python 3"
    },
    "language_info": {
      "name": "python"
    }
  },
  "cells": [
    {
      "cell_type": "markdown",
      "metadata": {
        "id": "view-in-github",
        "colab_type": "text"
      },
      "source": [
        "<a href=\"https://colab.research.google.com/github/anselmobd/cdia_pucrs/blob/main/ML1/aula2.ipynb\" target=\"_parent\"><img src=\"https://colab.research.google.com/assets/colab-badge.svg\" alt=\"Open In Colab\"/></a>"
      ]
    },
    {
      "cell_type": "code",
      "metadata": {
        "id": "hXOOCUfiwe1V"
      },
      "source": [
        "import numpy as np\n",
        "from sklearn import neighbors"
      ],
      "execution_count": 1,
      "outputs": []
    },
    {
      "cell_type": "markdown",
      "metadata": {
        "id": "bEhgKN6WqbAZ"
      },
      "source": [
        "## Exemplo de execução com k = 1"
      ]
    },
    {
      "cell_type": "code",
      "metadata": {
        "id": "14kNisMUws-Y"
      },
      "source": [
        "categoria = {0: 'M', 1: 'B'}\n",
        "dados = np.array([\n",
        "    [14, 23, 0],\n",
        "    [15, 28, 0],\n",
        "    [15, 20, 0],\n",
        "    [16, 21, 0],\n",
        "    [20, 22, 0],\n",
        "    [15, 14, 0],\n",
        "    [ 9, 21, 1],\n",
        "    [ 9, 14, 1],\n",
        "    [11, 19, 1],\n",
        "    [ 9, 17, 1],\n",
        "    [13, 16, 1],\n",
        "])\n"
      ],
      "execution_count": 2,
      "outputs": []
    },
    {
      "cell_type": "code",
      "metadata": {
        "id": "q8kI-TCrmErB"
      },
      "source": [
        "X = dados[:,:2]\n",
        "y = dados[:,2]"
      ],
      "execution_count": 3,
      "outputs": []
    },
    {
      "cell_type": "code",
      "metadata": {
        "id": "PjvvWowPmThs"
      },
      "source": [
        "clf = neighbors.KNeighborsClassifier(1, weights='uniform')"
      ],
      "execution_count": 4,
      "outputs": []
    },
    {
      "cell_type": "code",
      "metadata": {
        "colab": {
          "base_uri": "https://localhost:8080/"
        },
        "id": "Ec3hmCoC8DMB",
        "outputId": "3bd89486-9999-4464-abc5-9fa01d8b16b7"
      },
      "source": [
        "clf.fit(X, y)"
      ],
      "execution_count": 5,
      "outputs": [
        {
          "output_type": "execute_result",
          "data": {
            "text/plain": [
              "KNeighborsClassifier(n_neighbors=1)"
            ]
          },
          "metadata": {},
          "execution_count": 5
        }
      ]
    },
    {
      "cell_type": "code",
      "metadata": {
        "id": "_JK9nEZimr3P"
      },
      "source": [
        "Xt = [\n",
        "    [13, 18]\n",
        "]"
      ],
      "execution_count": 6,
      "outputs": []
    },
    {
      "cell_type": "code",
      "metadata": {
        "id": "tB83hU5SoQcV"
      },
      "source": [
        "yt = clf.predict(\n",
        "  [[13, 18]]\n",
        ")"
      ],
      "execution_count": 7,
      "outputs": []
    },
    {
      "cell_type": "code",
      "metadata": {
        "id": "yYfU0_6ARHdy",
        "outputId": "62b613db-8b62-4f84-aa5c-917185817f6f",
        "colab": {
          "base_uri": "https://localhost:8080/"
        }
      },
      "source": [
        "yt"
      ],
      "execution_count": 8,
      "outputs": [
        {
          "output_type": "execute_result",
          "data": {
            "text/plain": [
              "array([1])"
            ]
          },
          "metadata": {},
          "execution_count": 8
        }
      ]
    },
    {
      "cell_type": "code",
      "metadata": {
        "colab": {
          "base_uri": "https://localhost:8080/"
        },
        "id": "_0-CWwPCoSLd",
        "outputId": "b04554c5-cc0f-4d4f-8de8-0f9d5fffc5b5"
      },
      "source": [
        "[f\"{dado[0]} -> {categoria[dado[1]]}\" for dado in zip(Xt, yt)]"
      ],
      "execution_count": 9,
      "outputs": [
        {
          "output_type": "execute_result",
          "data": {
            "text/plain": [
              "['[13, 18] -> B']"
            ]
          },
          "metadata": {},
          "execution_count": 9
        }
      ]
    }
  ]
}